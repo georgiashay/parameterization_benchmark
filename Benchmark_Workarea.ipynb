{
 "cells": [
  {
   "cell_type": "code",
   "execution_count": 416,
   "id": "9c889f84",
   "metadata": {},
   "outputs": [],
   "source": [
    "import os"
   ]
  },
  {
   "cell_type": "code",
   "execution_count": 417,
   "id": "de8ca325",
   "metadata": {},
   "outputs": [],
   "source": [
    "import pandas as pd\n",
    "import numpy as np\n",
    "import matplotlib.pyplot as plt\n",
    "import pymesh\n",
    "import scipy\n",
    "import igl"
   ]
  },
  {
   "cell_type": "code",
   "execution_count": 860,
   "id": "1d9b3c2f",
   "metadata": {},
   "outputs": [],
   "source": [
    "dataset_folder = \"/Users/georgiashay/Documents/0Classes/0Undergraduate-MIT/0Senior/UROP/Mesh_Dataset/Obj_Files\""
   ]
  },
  {
   "cell_type": "code",
   "execution_count": 861,
   "id": "c5b7d96e",
   "metadata": {},
   "outputs": [],
   "source": [
    "df_s = pd.read_csv(\"mesh_characteristics.csv\")\n",
    "del df_s[\"Unnamed: 0\"]"
   ]
  },
  {
   "cell_type": "code",
   "execution_count": 862,
   "id": "8ad75d04",
   "metadata": {},
   "outputs": [
    {
     "data": {
      "text/html": [
       "<div>\n",
       "<style scoped>\n",
       "    .dataframe tbody tr th:only-of-type {\n",
       "        vertical-align: middle;\n",
       "    }\n",
       "\n",
       "    .dataframe tbody tr th {\n",
       "        vertical-align: top;\n",
       "    }\n",
       "\n",
       "    .dataframe thead th {\n",
       "        text-align: right;\n",
       "    }\n",
       "</style>\n",
       "<table border=\"1\" class=\"dataframe\">\n",
       "  <thead>\n",
       "    <tr style=\"text-align: right;\">\n",
       "      <th></th>\n",
       "      <th>Filename</th>\n",
       "      <th>Object Number</th>\n",
       "      <th>Mesh Name</th>\n",
       "      <th>Chart Number</th>\n",
       "      <th>Vertices</th>\n",
       "      <th>Faces</th>\n",
       "      <th>Euler Characteristic</th>\n",
       "      <th>Genus</th>\n",
       "      <th>Total Boundary Length</th>\n",
       "      <th>Boundary Faces</th>\n",
       "      <th>Interior Faces</th>\n",
       "      <th>Edge Manifold</th>\n",
       "      <th>Vertex Manifold</th>\n",
       "      <th>Closed</th>\n",
       "      <th>Connectivity Valid</th>\n",
       "    </tr>\n",
       "  </thead>\n",
       "  <tbody>\n",
       "    <tr>\n",
       "      <th>0</th>\n",
       "      <td>object_111_jack_o_lantern_5.obj</td>\n",
       "      <td>111</td>\n",
       "      <td>jack_o_lantern</td>\n",
       "      <td>5</td>\n",
       "      <td>225</td>\n",
       "      <td>316</td>\n",
       "      <td>1</td>\n",
       "      <td>0</td>\n",
       "      <td>132</td>\n",
       "      <td>130</td>\n",
       "      <td>186</td>\n",
       "      <td>True</td>\n",
       "      <td>True</td>\n",
       "      <td>False</td>\n",
       "      <td>True</td>\n",
       "    </tr>\n",
       "    <tr>\n",
       "      <th>1</th>\n",
       "      <td>object_218_rover_wheel_39.obj</td>\n",
       "      <td>218</td>\n",
       "      <td>rover_wheel</td>\n",
       "      <td>39</td>\n",
       "      <td>35</td>\n",
       "      <td>42</td>\n",
       "      <td>1</td>\n",
       "      <td>0</td>\n",
       "      <td>26</td>\n",
       "      <td>24</td>\n",
       "      <td>18</td>\n",
       "      <td>True</td>\n",
       "      <td>True</td>\n",
       "      <td>False</td>\n",
       "      <td>True</td>\n",
       "    </tr>\n",
       "    <tr>\n",
       "      <th>2</th>\n",
       "      <td>object_87_horse_sculpture_37.obj</td>\n",
       "      <td>87</td>\n",
       "      <td>horse_sculpture</td>\n",
       "      <td>37</td>\n",
       "      <td>4994</td>\n",
       "      <td>9173</td>\n",
       "      <td>-40</td>\n",
       "      <td>0</td>\n",
       "      <td>895</td>\n",
       "      <td>777</td>\n",
       "      <td>8396</td>\n",
       "      <td>True</td>\n",
       "      <td>True</td>\n",
       "      <td>False</td>\n",
       "      <td>True</td>\n",
       "    </tr>\n",
       "    <tr>\n",
       "      <th>3</th>\n",
       "      <td>object_121_remote_holder_27.obj</td>\n",
       "      <td>121</td>\n",
       "      <td>remote_holder</td>\n",
       "      <td>27</td>\n",
       "      <td>22</td>\n",
       "      <td>20</td>\n",
       "      <td>1</td>\n",
       "      <td>0</td>\n",
       "      <td>22</td>\n",
       "      <td>20</td>\n",
       "      <td>0</td>\n",
       "      <td>True</td>\n",
       "      <td>True</td>\n",
       "      <td>False</td>\n",
       "      <td>True</td>\n",
       "    </tr>\n",
       "    <tr>\n",
       "      <th>4</th>\n",
       "      <td>object_112_minion_toothpaste_holder_squeezer_2...</td>\n",
       "      <td>112</td>\n",
       "      <td>minion_toothpaste_holder_squeezer</td>\n",
       "      <td>21</td>\n",
       "      <td>105</td>\n",
       "      <td>168</td>\n",
       "      <td>1</td>\n",
       "      <td>0</td>\n",
       "      <td>40</td>\n",
       "      <td>38</td>\n",
       "      <td>130</td>\n",
       "      <td>True</td>\n",
       "      <td>True</td>\n",
       "      <td>False</td>\n",
       "      <td>True</td>\n",
       "    </tr>\n",
       "  </tbody>\n",
       "</table>\n",
       "</div>"
      ],
      "text/plain": [
       "                                            Filename  Object Number  \\\n",
       "0                    object_111_jack_o_lantern_5.obj            111   \n",
       "1                      object_218_rover_wheel_39.obj            218   \n",
       "2                   object_87_horse_sculpture_37.obj             87   \n",
       "3                    object_121_remote_holder_27.obj            121   \n",
       "4  object_112_minion_toothpaste_holder_squeezer_2...            112   \n",
       "\n",
       "                           Mesh Name  Chart Number  Vertices  Faces  \\\n",
       "0                     jack_o_lantern             5       225    316   \n",
       "1                        rover_wheel            39        35     42   \n",
       "2                    horse_sculpture            37      4994   9173   \n",
       "3                      remote_holder            27        22     20   \n",
       "4  minion_toothpaste_holder_squeezer            21       105    168   \n",
       "\n",
       "   Euler Characteristic  Genus  Total Boundary Length  Boundary Faces  \\\n",
       "0                     1      0                    132             130   \n",
       "1                     1      0                     26              24   \n",
       "2                   -40      0                    895             777   \n",
       "3                     1      0                     22              20   \n",
       "4                     1      0                     40              38   \n",
       "\n",
       "   Interior Faces  Edge Manifold  Vertex Manifold  Closed  Connectivity Valid  \n",
       "0             186           True             True   False                True  \n",
       "1              18           True             True   False                True  \n",
       "2            8396           True             True   False                True  \n",
       "3               0           True             True   False                True  \n",
       "4             130           True             True   False                True  "
      ]
     },
     "execution_count": 862,
     "metadata": {},
     "output_type": "execute_result"
    }
   ],
   "source": [
    "df_s.head()"
   ]
  },
  {
   "cell_type": "code",
   "execution_count": 863,
   "id": "7e4073b3",
   "metadata": {},
   "outputs": [
    {
     "data": {
      "image/png": "[encoded data removed]",
      "text/plain": [
       "<Figure size 432x288 with 1 Axes>"
      ]
     },
     "metadata": {
      "needs_background": "light"
     },
     "output_type": "display_data"
    }
   ],
   "source": [
    "plt.hist(np.log(df_s[\"Faces\"]), bins=30)\n",
    "plt.ylabel('Count')\n",
    "plt.xlabel('Log(Faces)')\n",
    "plt.show()"
   ]
  },
  {
   "cell_type": "code",
   "execution_count": 864,
   "id": "531853fa",
   "metadata": {},
   "outputs": [
    {
     "data": {
      "image/png": "[encoded data removed]",
      "text/plain": [
       "<Figure size 432x288 with 1 Axes>"
      ]
     },
     "metadata": {
      "needs_background": "light"
     },
     "output_type": "display_data"
    }
   ],
   "source": [
    "plt.hist(np.log(df_s[\"Vertices\"]), bins=30)\n",
    "plt.ylabel(\"Count\")\n",
    "plt.xlabel(\"Log(Vertices)\")\n",
    "plt.show()"
   ]
  },
  {
   "cell_type": "code",
   "execution_count": 865,
   "id": "7d650025",
   "metadata": {},
   "outputs": [],
   "source": [
    "df_i = df_s.set_index(\"Mesh Name\")\n",
    "largest_charts = df_i[\"Faces\"].max(level=\"Mesh Name\")\n",
    "smallest_charts = df_i[\"Faces\"].min(level=\"Mesh Name\")"
   ]
  },
  {
   "cell_type": "code",
   "execution_count": 866,
   "id": "9296b375",
   "metadata": {},
   "outputs": [
    {
     "data": {
      "image/png": "[encoded data removed]",
      "text/plain": [
       "<Figure size 432x288 with 1 Axes>"
      ]
     },
     "metadata": {
      "needs_background": "light"
     },
     "output_type": "display_data"
    }
   ],
   "source": [
    "plt.hist(largest_charts)\n",
    "plt.xlabel(\"Largest Chart Size\")\n",
    "plt.ylabel(\"Count\")\n",
    "plt.yscale(\"log\")\n",
    "plt.show()"
   ]
  },
  {
   "cell_type": "code",
   "execution_count": 867,
   "id": "21e5ebc7",
   "metadata": {},
   "outputs": [
    {
     "data": {
      "image/png": "[encoded data removed]",
      "text/plain": [
       "<Figure size 432x288 with 1 Axes>"
      ]
     },
     "metadata": {
      "needs_background": "light"
     },
     "output_type": "display_data"
    }
   ],
   "source": [
    "plt.hist(discard_top_percentage(largest_charts, 0.1))\n",
    "plt.xlabel(\"Largest Chart Size (Bottom 90%)\")\n",
    "plt.ylabel(\"Count\")\n",
    "plt.yscale(\"log\")\n",
    "plt.show()"
   ]
  },
  {
   "cell_type": "code",
   "execution_count": 868,
   "id": "4cbe89f6",
   "metadata": {},
   "outputs": [
    {
     "data": {
      "image/png": "[encoded data removed]",
      "text/plain": [
       "<Figure size 432x288 with 1 Axes>"
      ]
     },
     "metadata": {
      "needs_background": "light"
     },
     "output_type": "display_data"
    }
   ],
   "source": [
    "plt.hist(discard_top_percentage(smallest_charts, 0.1))\n",
    "plt.xlabel(\"Smallest Chart Size (Bottom 90%)\")\n",
    "plt.ylabel(\"Count\")\n",
    "plt.yscale(\"log\")\n",
    "plt.show()"
   ]
  },
  {
   "cell_type": "code",
   "execution_count": 869,
   "id": "83ed2dd1",
   "metadata": {},
   "outputs": [
    {
     "data": {
      "image/png": "[encoded data removed]",
      "text/plain": [
       "<Figure size 432x288 with 1 Axes>"
      ]
     },
     "metadata": {
      "needs_background": "light"
     },
     "output_type": "display_data"
    }
   ],
   "source": [
    "plt.hist(df_s[\"Euler Characteristic\"])\n",
    "plt.ylabel(\"Count\")\n",
    "plt.xlabel(\"Euler Characteristic\")\n",
    "plt.yscale(\"log\")\n",
    "plt.show()"
   ]
  },
  {
   "cell_type": "code",
   "execution_count": 870,
   "id": "b502e157",
   "metadata": {},
   "outputs": [
    {
     "data": {
      "image/png": "[encoded data removed]",
      "text/plain": [
       "<Figure size 432x288 with 1 Axes>"
      ]
     },
     "metadata": {
      "needs_background": "light"
     },
     "output_type": "display_data"
    }
   ],
   "source": [
    "plt.hist(df_s[\"Genus\"])\n",
    "plt.xlabel(\"Genus\")\n",
    "plt.ylabel(\"Count\")\n",
    "plt.yscale(\"log\")\n",
    "plt.show()"
   ]
  },
  {
   "cell_type": "code",
   "execution_count": 871,
   "id": "559ad981",
   "metadata": {},
   "outputs": [
    {
     "data": {
      "image/png": "[encoded data removed]",
      "text/plain": [
       "<Figure size 432x288 with 1 Axes>"
      ]
     },
     "metadata": {
      "needs_background": "light"
     },
     "output_type": "display_data"
    }
   ],
   "source": [
    "plt.hist(df_s[\"Boundary Faces\"]/(df_s[\"Faces\"]))\n",
    "plt.xlabel(\"Percentage Boundary Faces\")\n",
    "plt.ylabel(\"Count\")\n",
    "plt.show()"
   ]
  },
  {
   "cell_type": "code",
   "execution_count": 872,
   "id": "8c744e5b",
   "metadata": {},
   "outputs": [
    {
     "data": {
      "image/png": "[encoded data removed]",
      "text/plain": [
       "<Figure size 432x288 with 1 Axes>"
      ]
     },
     "metadata": {
      "needs_background": "light"
     },
     "output_type": "display_data"
    }
   ],
   "source": [
    "plt.scatter(df_s[\"Boundary Faces\"]/(df_s[\"Faces\"]), df_s[\"Faces\"])\n",
    "plt.yscale(\"log\")\n",
    "plt.xlabel(\"Percentage Boundary Faces\")\n",
    "plt.ylabel(\"Faces\")\n",
    "plt.show()"
   ]
  },
  {
   "cell_type": "code",
   "execution_count": 873,
   "id": "2c3c3f11",
   "metadata": {},
   "outputs": [
    {
     "data": {
      "text/plain": [
       "(array([   3,   10,   14, ..., 7526, 7527, 7534]),)"
      ]
     },
     "execution_count": 873,
     "metadata": {},
     "output_type": "execute_result"
    }
   ],
   "source": [
    "np.where(df_s[\"Boundary Faces\"] == df_s[\"Faces\"])"
   ]
  },
  {
   "cell_type": "code",
   "execution_count": 874,
   "id": "8927289d",
   "metadata": {},
   "outputs": [
    {
     "data": {
      "text/html": [
       "<div>\n",
       "<style scoped>\n",
       "    .dataframe tbody tr th:only-of-type {\n",
       "        vertical-align: middle;\n",
       "    }\n",
       "\n",
       "    .dataframe tbody tr th {\n",
       "        vertical-align: top;\n",
       "    }\n",
       "\n",
       "    .dataframe thead th {\n",
       "        text-align: right;\n",
       "    }\n",
       "</style>\n",
       "<table border=\"1\" class=\"dataframe\">\n",
       "  <thead>\n",
       "    <tr style=\"text-align: right;\">\n",
       "      <th></th>\n",
       "      <th>Filename</th>\n",
       "      <th>Object Number</th>\n",
       "      <th>Mesh Name</th>\n",
       "      <th>Chart Number</th>\n",
       "      <th>Vertices</th>\n",
       "      <th>Faces</th>\n",
       "      <th>Euler Characteristic</th>\n",
       "      <th>Genus</th>\n",
       "      <th>Total Boundary Length</th>\n",
       "      <th>Boundary Faces</th>\n",
       "      <th>Interior Faces</th>\n",
       "      <th>Edge Manifold</th>\n",
       "      <th>Vertex Manifold</th>\n",
       "      <th>Closed</th>\n",
       "      <th>Connectivity Valid</th>\n",
       "    </tr>\n",
       "  </thead>\n",
       "  <tbody>\n",
       "    <tr>\n",
       "      <th>4102</th>\n",
       "      <td>object_129_hellraiser_28.obj</td>\n",
       "      <td>129</td>\n",
       "      <td>hellraiser</td>\n",
       "      <td>28</td>\n",
       "      <td>1280</td>\n",
       "      <td>1278</td>\n",
       "      <td>1</td>\n",
       "      <td>0</td>\n",
       "      <td>1280</td>\n",
       "      <td>1278</td>\n",
       "      <td>0</td>\n",
       "      <td>True</td>\n",
       "      <td>True</td>\n",
       "      <td>False</td>\n",
       "      <td>True</td>\n",
       "    </tr>\n",
       "    <tr>\n",
       "      <th>7436</th>\n",
       "      <td>object_129_hellraiser_2.obj</td>\n",
       "      <td>129</td>\n",
       "      <td>hellraiser</td>\n",
       "      <td>2</td>\n",
       "      <td>1280</td>\n",
       "      <td>1278</td>\n",
       "      <td>1</td>\n",
       "      <td>0</td>\n",
       "      <td>1280</td>\n",
       "      <td>1278</td>\n",
       "      <td>0</td>\n",
       "      <td>True</td>\n",
       "      <td>True</td>\n",
       "      <td>False</td>\n",
       "      <td>True</td>\n",
       "    </tr>\n",
       "    <tr>\n",
       "      <th>477</th>\n",
       "      <td>object_145_wheel_guard_5.obj</td>\n",
       "      <td>145</td>\n",
       "      <td>wheel_guard</td>\n",
       "      <td>5</td>\n",
       "      <td>803</td>\n",
       "      <td>801</td>\n",
       "      <td>1</td>\n",
       "      <td>0</td>\n",
       "      <td>803</td>\n",
       "      <td>801</td>\n",
       "      <td>0</td>\n",
       "      <td>True</td>\n",
       "      <td>True</td>\n",
       "      <td>False</td>\n",
       "      <td>True</td>\n",
       "    </tr>\n",
       "    <tr>\n",
       "      <th>25</th>\n",
       "      <td>object_145_wheel_guard_4.obj</td>\n",
       "      <td>145</td>\n",
       "      <td>wheel_guard</td>\n",
       "      <td>4</td>\n",
       "      <td>777</td>\n",
       "      <td>775</td>\n",
       "      <td>1</td>\n",
       "      <td>0</td>\n",
       "      <td>777</td>\n",
       "      <td>775</td>\n",
       "      <td>0</td>\n",
       "      <td>True</td>\n",
       "      <td>True</td>\n",
       "      <td>False</td>\n",
       "      <td>True</td>\n",
       "    </tr>\n",
       "    <tr>\n",
       "      <th>7477</th>\n",
       "      <td>object_172_castle_spiral_staircase_41.obj</td>\n",
       "      <td>172</td>\n",
       "      <td>castle_spiral_staircase</td>\n",
       "      <td>41</td>\n",
       "      <td>773</td>\n",
       "      <td>771</td>\n",
       "      <td>1</td>\n",
       "      <td>0</td>\n",
       "      <td>773</td>\n",
       "      <td>771</td>\n",
       "      <td>0</td>\n",
       "      <td>True</td>\n",
       "      <td>True</td>\n",
       "      <td>False</td>\n",
       "      <td>True</td>\n",
       "    </tr>\n",
       "    <tr>\n",
       "      <th>...</th>\n",
       "      <td>...</td>\n",
       "      <td>...</td>\n",
       "      <td>...</td>\n",
       "      <td>...</td>\n",
       "      <td>...</td>\n",
       "      <td>...</td>\n",
       "      <td>...</td>\n",
       "      <td>...</td>\n",
       "      <td>...</td>\n",
       "      <td>...</td>\n",
       "      <td>...</td>\n",
       "      <td>...</td>\n",
       "      <td>...</td>\n",
       "      <td>...</td>\n",
       "      <td>...</td>\n",
       "    </tr>\n",
       "    <tr>\n",
       "      <th>1290</th>\n",
       "      <td>object_67_paint_bucket_28.obj</td>\n",
       "      <td>67</td>\n",
       "      <td>paint_bucket</td>\n",
       "      <td>28</td>\n",
       "      <td>3</td>\n",
       "      <td>1</td>\n",
       "      <td>1</td>\n",
       "      <td>0</td>\n",
       "      <td>3</td>\n",
       "      <td>1</td>\n",
       "      <td>0</td>\n",
       "      <td>True</td>\n",
       "      <td>True</td>\n",
       "      <td>False</td>\n",
       "      <td>True</td>\n",
       "    </tr>\n",
       "    <tr>\n",
       "      <th>6862</th>\n",
       "      <td>object_107_whistle_33.obj</td>\n",
       "      <td>107</td>\n",
       "      <td>whistle</td>\n",
       "      <td>33</td>\n",
       "      <td>3</td>\n",
       "      <td>1</td>\n",
       "      <td>1</td>\n",
       "      <td>0</td>\n",
       "      <td>3</td>\n",
       "      <td>1</td>\n",
       "      <td>0</td>\n",
       "      <td>True</td>\n",
       "      <td>True</td>\n",
       "      <td>False</td>\n",
       "      <td>True</td>\n",
       "    </tr>\n",
       "    <tr>\n",
       "      <th>1265</th>\n",
       "      <td>object_230_carton_box_5.obj</td>\n",
       "      <td>230</td>\n",
       "      <td>carton_box</td>\n",
       "      <td>5</td>\n",
       "      <td>3</td>\n",
       "      <td>1</td>\n",
       "      <td>1</td>\n",
       "      <td>0</td>\n",
       "      <td>3</td>\n",
       "      <td>1</td>\n",
       "      <td>0</td>\n",
       "      <td>True</td>\n",
       "      <td>True</td>\n",
       "      <td>False</td>\n",
       "      <td>True</td>\n",
       "    </tr>\n",
       "    <tr>\n",
       "      <th>6854</th>\n",
       "      <td>object_107_whistle_27.obj</td>\n",
       "      <td>107</td>\n",
       "      <td>whistle</td>\n",
       "      <td>27</td>\n",
       "      <td>3</td>\n",
       "      <td>1</td>\n",
       "      <td>1</td>\n",
       "      <td>0</td>\n",
       "      <td>3</td>\n",
       "      <td>1</td>\n",
       "      <td>0</td>\n",
       "      <td>True</td>\n",
       "      <td>True</td>\n",
       "      <td>False</td>\n",
       "      <td>True</td>\n",
       "    </tr>\n",
       "    <tr>\n",
       "      <th>4288</th>\n",
       "      <td>object_54_arcade_cabinet_16.obj</td>\n",
       "      <td>54</td>\n",
       "      <td>arcade_cabinet</td>\n",
       "      <td>16</td>\n",
       "      <td>3</td>\n",
       "      <td>1</td>\n",
       "      <td>1</td>\n",
       "      <td>0</td>\n",
       "      <td>3</td>\n",
       "      <td>1</td>\n",
       "      <td>0</td>\n",
       "      <td>True</td>\n",
       "      <td>True</td>\n",
       "      <td>False</td>\n",
       "      <td>True</td>\n",
       "    </tr>\n",
       "  </tbody>\n",
       "</table>\n",
       "<p>2057 rows × 15 columns</p>\n",
       "</div>"
      ],
      "text/plain": [
       "                                       Filename  Object Number  \\\n",
       "4102               object_129_hellraiser_28.obj            129   \n",
       "7436                object_129_hellraiser_2.obj            129   \n",
       "477                object_145_wheel_guard_5.obj            145   \n",
       "25                 object_145_wheel_guard_4.obj            145   \n",
       "7477  object_172_castle_spiral_staircase_41.obj            172   \n",
       "...                                         ...            ...   \n",
       "1290              object_67_paint_bucket_28.obj             67   \n",
       "6862                  object_107_whistle_33.obj            107   \n",
       "1265                object_230_carton_box_5.obj            230   \n",
       "6854                  object_107_whistle_27.obj            107   \n",
       "4288            object_54_arcade_cabinet_16.obj             54   \n",
       "\n",
       "                    Mesh Name  Chart Number  Vertices  Faces  \\\n",
       "4102               hellraiser            28      1280   1278   \n",
       "7436               hellraiser             2      1280   1278   \n",
       "477               wheel_guard             5       803    801   \n",
       "25                wheel_guard             4       777    775   \n",
       "7477  castle_spiral_staircase            41       773    771   \n",
       "...                       ...           ...       ...    ...   \n",
       "1290             paint_bucket            28         3      1   \n",
       "6862                  whistle            33         3      1   \n",
       "1265               carton_box             5         3      1   \n",
       "6854                  whistle            27         3      1   \n",
       "4288           arcade_cabinet            16         3      1   \n",
       "\n",
       "      Euler Characteristic  Genus  Total Boundary Length  Boundary Faces  \\\n",
       "4102                     1      0                   1280            1278   \n",
       "7436                     1      0                   1280            1278   \n",
       "477                      1      0                    803             801   \n",
       "25                       1      0                    777             775   \n",
       "7477                     1      0                    773             771   \n",
       "...                    ...    ...                    ...             ...   \n",
       "1290                     1      0                      3               1   \n",
       "6862                     1      0                      3               1   \n",
       "1265                     1      0                      3               1   \n",
       "6854                     1      0                      3               1   \n",
       "4288                     1      0                      3               1   \n",
       "\n",
       "      Interior Faces  Edge Manifold  Vertex Manifold  Closed  \\\n",
       "4102               0           True             True   False   \n",
       "7436               0           True             True   False   \n",
       "477                0           True             True   False   \n",
       "25                 0           True             True   False   \n",
       "7477               0           True             True   False   \n",
       "...              ...            ...              ...     ...   \n",
       "1290               0           True             True   False   \n",
       "6862               0           True             True   False   \n",
       "1265               0           True             True   False   \n",
       "6854               0           True             True   False   \n",
       "4288               0           True             True   False   \n",
       "\n",
       "      Connectivity Valid  \n",
       "4102                True  \n",
       "7436                True  \n",
       "477                 True  \n",
       "25                  True  \n",
       "7477                True  \n",
       "...                  ...  \n",
       "1290                True  \n",
       "6862                True  \n",
       "1265                True  \n",
       "6854                True  \n",
       "4288                True  \n",
       "\n",
       "[2057 rows x 15 columns]"
      ]
     },
     "execution_count": 874,
     "metadata": {},
     "output_type": "execute_result"
    }
   ],
   "source": [
    "df_s.loc[np.where(df_s[\"Boundary Faces\"] == df_s[\"Faces\"])[0]].sort_values(\"Faces\", ascending=False)"
   ]
  },
  {
   "cell_type": "code",
   "execution_count": 516,
   "id": "42fc12c2",
   "metadata": {},
   "outputs": [
    {
     "data": {
      "text/plain": [
       "Text(0, 0.5, 'Count')"
      ]
     },
     "execution_count": 516,
     "metadata": {},
     "output_type": "execute_result"
    },
    {
     "data": {
      "image/png": "[encoded data removed]",
      "text/plain": [
       "<Figure size 432x288 with 1 Axes>"
      ]
     },
     "metadata": {
      "needs_background": "light"
     },
     "output_type": "display_data"
    }
   ],
   "source": [
    "plt.hist(df_s[\"Total Boundary Length\"])\n",
    "plt.yscale(\"log\")\n",
    "plt.xlabel(\"Boundary Length\")\n",
    "plt.ylabel(\"Count\")"
   ]
  },
  {
   "cell_type": "code",
   "execution_count": 507,
   "id": "4acdae34",
   "metadata": {},
   "outputs": [],
   "source": [
    "df = pd.read_csv(\"distortion_characteristics.csv\")"
   ]
  },
  {
   "cell_type": "code",
   "execution_count": 508,
   "id": "55b47e6e",
   "metadata": {},
   "outputs": [
    {
     "data": {
      "text/html": [
       "<div>\n",
       "<style scoped>\n",
       "    .dataframe tbody tr th:only-of-type {\n",
       "        vertical-align: middle;\n",
       "    }\n",
       "\n",
       "    .dataframe tbody tr th {\n",
       "        vertical-align: top;\n",
       "    }\n",
       "\n",
       "    .dataframe thead th {\n",
       "        text-align: right;\n",
       "    }\n",
       "</style>\n",
       "<table border=\"1\" class=\"dataframe\">\n",
       "  <thead>\n",
       "    <tr style=\"text-align: right;\">\n",
       "      <th></th>\n",
       "      <th>Unnamed: 0</th>\n",
       "      <th>Filename</th>\n",
       "      <th>Min Area Ratio</th>\n",
       "      <th>Max Area Ratio</th>\n",
       "      <th>Max Area Distortion</th>\n",
       "      <th>Std Dev Area Distortion</th>\n",
       "      <th>Min Edge Length Ratio</th>\n",
       "      <th>Max Edge Length Ratio</th>\n",
       "      <th>Max Edge Length Distortion</th>\n",
       "      <th>Std Dev Edge Length Distortion</th>\n",
       "      <th>Min Singular Value</th>\n",
       "      <th>Max Singular Value</th>\n",
       "      <th>Percentage Flipped Triangles</th>\n",
       "    </tr>\n",
       "  </thead>\n",
       "  <tbody>\n",
       "    <tr>\n",
       "      <th>0</th>\n",
       "      <td>0</td>\n",
       "      <td>object_111_jack_o_lantern_5.obj</td>\n",
       "      <td>0.985022</td>\n",
       "      <td>1.037242</td>\n",
       "      <td>2.001337</td>\n",
       "      <td>1.163790e-04</td>\n",
       "      <td>0.988494</td>\n",
       "      <td>1.022003</td>\n",
       "      <td>2.000474</td>\n",
       "      <td>4.711004e-05</td>\n",
       "      <td>0.988437</td>\n",
       "      <td>1.025709</td>\n",
       "      <td>1.0</td>\n",
       "    </tr>\n",
       "    <tr>\n",
       "      <th>1</th>\n",
       "      <td>1</td>\n",
       "      <td>object_218_rover_wheel_39.obj</td>\n",
       "      <td>0.887065</td>\n",
       "      <td>1.141001</td>\n",
       "      <td>2.017424</td>\n",
       "      <td>5.352569e-03</td>\n",
       "      <td>0.770434</td>\n",
       "      <td>1.166533</td>\n",
       "      <td>2.068404</td>\n",
       "      <td>2.148634e-02</td>\n",
       "      <td>0.770434</td>\n",
       "      <td>1.166533</td>\n",
       "      <td>0.5</td>\n",
       "    </tr>\n",
       "    <tr>\n",
       "      <th>2</th>\n",
       "      <td>2</td>\n",
       "      <td>object_87_horse_sculpture_37.obj</td>\n",
       "      <td>0.146613</td>\n",
       "      <td>4.918095</td>\n",
       "      <td>6.967279</td>\n",
       "      <td>2.268202e-01</td>\n",
       "      <td>0.295120</td>\n",
       "      <td>4.885592</td>\n",
       "      <td>5.090276</td>\n",
       "      <td>6.531987e-02</td>\n",
       "      <td>0.173454</td>\n",
       "      <td>5.265007</td>\n",
       "      <td>0.0</td>\n",
       "    </tr>\n",
       "    <tr>\n",
       "      <th>3</th>\n",
       "      <td>3</td>\n",
       "      <td>object_121_remote_holder_27.obj</td>\n",
       "      <td>0.999185</td>\n",
       "      <td>1.000385</td>\n",
       "      <td>2.000001</td>\n",
       "      <td>2.071642e-07</td>\n",
       "      <td>0.999511</td>\n",
       "      <td>1.000896</td>\n",
       "      <td>2.000001</td>\n",
       "      <td>2.486130e-07</td>\n",
       "      <td>0.999374</td>\n",
       "      <td>1.000900</td>\n",
       "      <td>0.0</td>\n",
       "    </tr>\n",
       "    <tr>\n",
       "      <th>4</th>\n",
       "      <td>4</td>\n",
       "      <td>object_112_minion_toothpaste_holder_squeezer_2...</td>\n",
       "      <td>0.753964</td>\n",
       "      <td>2.433649</td>\n",
       "      <td>2.844554</td>\n",
       "      <td>1.677847e-01</td>\n",
       "      <td>0.306554</td>\n",
       "      <td>5.778315</td>\n",
       "      <td>5.951375</td>\n",
       "      <td>7.766408e-01</td>\n",
       "      <td>0.306554</td>\n",
       "      <td>6.091227</td>\n",
       "      <td>0.5</td>\n",
       "    </tr>\n",
       "  </tbody>\n",
       "</table>\n",
       "</div>"
      ],
      "text/plain": [
       "   Unnamed: 0                                           Filename  \\\n",
       "0           0                    object_111_jack_o_lantern_5.obj   \n",
       "1           1                      object_218_rover_wheel_39.obj   \n",
       "2           2                   object_87_horse_sculpture_37.obj   \n",
       "3           3                    object_121_remote_holder_27.obj   \n",
       "4           4  object_112_minion_toothpaste_holder_squeezer_2...   \n",
       "\n",
       "   Min Area Ratio  Max Area Ratio  Max Area Distortion  \\\n",
       "0        0.985022        1.037242             2.001337   \n",
       "1        0.887065        1.141001             2.017424   \n",
       "2        0.146613        4.918095             6.967279   \n",
       "3        0.999185        1.000385             2.000001   \n",
       "4        0.753964        2.433649             2.844554   \n",
       "\n",
       "   Std Dev Area Distortion  Min Edge Length Ratio  Max Edge Length Ratio  \\\n",
       "0             1.163790e-04               0.988494               1.022003   \n",
       "1             5.352569e-03               0.770434               1.166533   \n",
       "2             2.268202e-01               0.295120               4.885592   \n",
       "3             2.071642e-07               0.999511               1.000896   \n",
       "4             1.677847e-01               0.306554               5.778315   \n",
       "\n",
       "   Max Edge Length Distortion  Std Dev Edge Length Distortion  \\\n",
       "0                    2.000474                    4.711004e-05   \n",
       "1                    2.068404                    2.148634e-02   \n",
       "2                    5.090276                    6.531987e-02   \n",
       "3                    2.000001                    2.486130e-07   \n",
       "4                    5.951375                    7.766408e-01   \n",
       "\n",
       "   Min Singular Value  Max Singular Value  Percentage Flipped Triangles  \n",
       "0            0.988437            1.025709                           1.0  \n",
       "1            0.770434            1.166533                           0.5  \n",
       "2            0.173454            5.265007                           0.0  \n",
       "3            0.999374            1.000900                           0.0  \n",
       "4            0.306554            6.091227                           0.5  "
      ]
     },
     "execution_count": 508,
     "metadata": {},
     "output_type": "execute_result"
    }
   ],
   "source": [
    "df.head()"
   ]
  },
  {
   "cell_type": "code",
   "execution_count": 439,
   "id": "fb918539",
   "metadata": {},
   "outputs": [
    {
     "data": {
      "text/plain": [
       "Text(0, 0.5, 'Count')"
      ]
     },
     "execution_count": 439,
     "metadata": {},
     "output_type": "execute_result"
    },
    {
     "data": {
      "image/png": "[encoded data removed]",
      "text/plain": [
       "<Figure size 432x288 with 1 Axes>"
      ]
     },
     "metadata": {
      "needs_background": "light"
     },
     "output_type": "display_data"
    }
   ],
   "source": [
    "plt.hist(df[\"Min Area Ratio\"])\n",
    "plt.xlabel(\"Min Area Ratio\")\n",
    "plt.ylabel(\"Count\")"
   ]
  },
  {
   "cell_type": "code",
   "execution_count": 312,
   "id": "75c69bea",
   "metadata": {},
   "outputs": [],
   "source": [
    "def only_finite(arr):\n",
    "    return arr[np.where(arr != np.inf)[0]]"
   ]
  },
  {
   "cell_type": "code",
   "execution_count": 316,
   "id": "5cbff93f",
   "metadata": {},
   "outputs": [],
   "source": [
    "def discard_exterior_percentage(arr, p):\n",
    "    sorted_vals = np.sort(arr)\n",
    "    p_num = int(len(sorted_vals) * p)\n",
    "    return sorted_vals[p_num:-p_num]"
   ]
  },
  {
   "cell_type": "code",
   "execution_count": 332,
   "id": "b0738548",
   "metadata": {},
   "outputs": [],
   "source": [
    "def discard_top_percentage(arr, p):\n",
    "    sorted_vals = np.sort(arr)\n",
    "    p_num = int(len(sorted_vals) * p)\n",
    "    return sorted_vals[:-p_num]"
   ]
  },
  {
   "cell_type": "code",
   "execution_count": 382,
   "id": "a741506d",
   "metadata": {},
   "outputs": [
    {
     "data": {
      "image/png": "[encoded data removed]",
      "text/plain": [
       "<Figure size 432x288 with 1 Axes>"
      ]
     },
     "metadata": {
      "needs_background": "light"
     },
     "output_type": "display_data"
    }
   ],
   "source": [
    "plt.hist(discard_top_percentage(df[\"Max Area Ratio\"], 0.25))\n",
    "plt.xlabel(\"Max Area Ratio (Bottom 75%)\")\n",
    "plt.ylabel(\"Count\")\n",
    "plt.show()"
   ]
  },
  {
   "cell_type": "code",
   "execution_count": 381,
   "id": "e88dd18f",
   "metadata": {},
   "outputs": [
    {
     "data": {
      "image/png": "[encoded data removed]",
      "text/plain": [
       "<Figure size 432x288 with 1 Axes>"
      ]
     },
     "metadata": {
      "needs_background": "light"
     },
     "output_type": "display_data"
    }
   ],
   "source": [
    "plt.hist(discard_top_percentage(df[\"Max Area Distortion\"], 0.25))\n",
    "plt.xlabel(\"Max Area Distortion (Bottom 75%)\")\n",
    "plt.ylabel(\"Count\")\n",
    "plt.show()"
   ]
  },
  {
   "cell_type": "code",
   "execution_count": 380,
   "id": "7f81c794",
   "metadata": {},
   "outputs": [
    {
     "data": {
      "image/png": "[encoded data removed]",
      "text/plain": [
       "<Figure size 432x288 with 1 Axes>"
      ]
     },
     "metadata": {
      "needs_background": "light"
     },
     "output_type": "display_data"
    }
   ],
   "source": [
    "plt.hist(discard_top_percentage(df[\"Std Dev Area Distortion\"], 0.25))\n",
    "plt.xlabel(\"Std Dev Area Distortion (Bottom 75%)\")\n",
    "plt.ylabel(\"Count\")\n",
    "plt.show()"
   ]
  },
  {
   "cell_type": "code",
   "execution_count": 379,
   "id": "8952c1e4",
   "metadata": {},
   "outputs": [
    {
     "data": {
      "image/png": "[encoded data removed]",
      "text/plain": [
       "<Figure size 432x288 with 1 Axes>"
      ]
     },
     "metadata": {
      "needs_background": "light"
     },
     "output_type": "display_data"
    }
   ],
   "source": [
    "plt.hist(discard_top_percentage(df[\"Min Edge Length Ratio\"], 0.1))\n",
    "plt.xlabel(\"Min Edge Length Ratio (Bottom 90%)\")\n",
    "plt.ylabel(\"Count\")\n",
    "plt.show()"
   ]
  },
  {
   "cell_type": "code",
   "execution_count": 378,
   "id": "6e276232",
   "metadata": {},
   "outputs": [
    {
     "data": {
      "image/png": "[encoded data removed]",
      "text/plain": [
       "<Figure size 432x288 with 1 Axes>"
      ]
     },
     "metadata": {
      "needs_background": "light"
     },
     "output_type": "display_data"
    }
   ],
   "source": [
    "plt.hist(discard_top_percentage(df[\"Max Edge Length Ratio\"], 0.1))\n",
    "plt.xlabel(\"Max Edge Length Ratio (Bottom 90%)\")\n",
    "plt.ylabel(\"Count\")\n",
    "plt.show()"
   ]
  },
  {
   "cell_type": "code",
   "execution_count": 377,
   "id": "3baa6dab",
   "metadata": {},
   "outputs": [
    {
     "data": {
      "image/png": "[encoded data removed]",
      "text/plain": [
       "<Figure size 432x288 with 1 Axes>"
      ]
     },
     "metadata": {
      "needs_background": "light"
     },
     "output_type": "display_data"
    }
   ],
   "source": [
    "plt.hist(discard_top_percentage(df[\"Max Edge Length Distortion\"], 0.2))\n",
    "plt.xlabel(\"Max Edge Length Distortion (Bottom 80%)\")\n",
    "plt.ylabel(\"Count\")\n",
    "plt.show()"
   ]
  },
  {
   "cell_type": "code",
   "execution_count": 355,
   "id": "38c50294",
   "metadata": {},
   "outputs": [
    {
     "data": {
      "text/plain": [
       "Text(0, 0.5, 'Count')"
      ]
     },
     "execution_count": 355,
     "metadata": {},
     "output_type": "execute_result"
    },
    {
     "data": {
      "image/png": "[encoded data removed]",
      "text/plain": [
       "<Figure size 432x288 with 1 Axes>"
      ]
     },
     "metadata": {
      "needs_background": "light"
     },
     "output_type": "display_data"
    }
   ],
   "source": [
    "plt.hist(discard_top_percentage(df[\"Std Dev Edge Length Distortion\"], 0.2))\n",
    "plt.xlabel(\"Std Dev Edge Length Distortion (Bottom 80%)\")\n",
    "plt.ylabel(\"Count\")"
   ]
  },
  {
   "cell_type": "code",
   "execution_count": 373,
   "id": "7d95fe96",
   "metadata": {},
   "outputs": [
    {
     "data": {
      "image/png": "[encoded data removed]",
      "text/plain": [
       "<Figure size 432x288 with 1 Axes>"
      ]
     },
     "metadata": {
      "needs_background": "light"
     },
     "output_type": "display_data"
    }
   ],
   "source": [
    "plt.hist(df[\"Min Singular Value\"])\n",
    "plt.xlabel(\"Min Singular Value\")\n",
    "plt.ylabel(\"Count\")\n",
    "plt.show()"
   ]
  },
  {
   "cell_type": "code",
   "execution_count": 372,
   "id": "fea188f8",
   "metadata": {},
   "outputs": [
    {
     "data": {
      "image/png": "[encoded data removed]",
      "text/plain": [
       "<Figure size 432x288 with 1 Axes>"
      ]
     },
     "metadata": {
      "needs_background": "light"
     },
     "output_type": "display_data"
    }
   ],
   "source": [
    "plt.hist(discard_top_percentage(df[\"Max Singular Value\"], 0.1))\n",
    "plt.xlabel(\"Max Singular Value (Bottom 90%))\")\n",
    "plt.ylabel(\"Count\")\n",
    "plt.show()"
   ]
  },
  {
   "cell_type": "code",
   "execution_count": 364,
   "id": "9fcb4a39",
   "metadata": {},
   "outputs": [],
   "source": [
    "def discard_top_rows(df, col, p):\n",
    "    sorted_df = df.sort_values(col)\n",
    "    p_num = int(len(sorted_df) * p)\n",
    "    return sorted_df.loc[:len(sorted_df)-p_num]"
   ]
  },
  {
   "cell_type": "code",
   "execution_count": 371,
   "id": "4348304b",
   "metadata": {},
   "outputs": [
    {
     "data": {
      "image/png": "[encoded data removed]",
      "text/plain": [
       "<Figure size 432x288 with 1 Axes>"
      ]
     },
     "metadata": {
      "needs_background": "light"
     },
     "output_type": "display_data"
    }
   ],
   "source": [
    "df_d = discard_top_rows(df, \"Max Singular Value\", 0.02)\n",
    "plt.scatter(df_d[\"Min Singular Value\"], df_d[\"Max Singular Value\"])\n",
    "plt.xlabel(\"Min Singular Value\")\n",
    "plt.ylabel(\"Max Singular Value\")\n",
    "plt.show()"
   ]
  },
  {
   "cell_type": "code",
   "execution_count": 376,
   "id": "f8f5ca22",
   "metadata": {},
   "outputs": [
    {
     "data": {
      "image/png": "[encoded data removed]",
      "text/plain": [
       "<Figure size 432x288 with 1 Axes>"
      ]
     },
     "metadata": {
      "needs_background": "light"
     },
     "output_type": "display_data"
    }
   ],
   "source": [
    "plt.hist(df[\"Percentage Flipped Triangles\"])\n",
    "plt.xlabel(\"Percentage Flipped Triangles\")\n",
    "plt.ylabel(\"Count\")\n",
    "plt.show()"
   ]
  },
  {
   "cell_type": "code",
   "execution_count": 562,
   "id": "7a0d637b",
   "metadata": {},
   "outputs": [],
   "source": [
    "df_t = pd.read_csv(\"triangle_singular_values.csv\")"
   ]
  },
  {
   "cell_type": "code",
   "execution_count": 563,
   "id": "89c81746",
   "metadata": {},
   "outputs": [
    {
     "data": {
      "text/html": [
       "<div>\n",
       "<style scoped>\n",
       "    .dataframe tbody tr th:only-of-type {\n",
       "        vertical-align: middle;\n",
       "    }\n",
       "\n",
       "    .dataframe tbody tr th {\n",
       "        vertical-align: top;\n",
       "    }\n",
       "\n",
       "    .dataframe thead th {\n",
       "        text-align: right;\n",
       "    }\n",
       "</style>\n",
       "<table border=\"1\" class=\"dataframe\">\n",
       "  <thead>\n",
       "    <tr style=\"text-align: right;\">\n",
       "      <th></th>\n",
       "      <th>Unnamed: 0</th>\n",
       "      <th>Filename</th>\n",
       "      <th>Triangle Number</th>\n",
       "      <th>Singular Value 1</th>\n",
       "      <th>Singular Value 2</th>\n",
       "    </tr>\n",
       "  </thead>\n",
       "  <tbody>\n",
       "    <tr>\n",
       "      <th>0</th>\n",
       "      <td>0</td>\n",
       "      <td>object_111_jack_o_lantern_5.obj</td>\n",
       "      <td>0</td>\n",
       "      <td>1.009993</td>\n",
       "      <td>0.996638</td>\n",
       "    </tr>\n",
       "    <tr>\n",
       "      <th>1</th>\n",
       "      <td>1</td>\n",
       "      <td>object_111_jack_o_lantern_5.obj</td>\n",
       "      <td>1</td>\n",
       "      <td>1.025709</td>\n",
       "      <td>0.995636</td>\n",
       "    </tr>\n",
       "    <tr>\n",
       "      <th>2</th>\n",
       "      <td>2</td>\n",
       "      <td>object_111_jack_o_lantern_5.obj</td>\n",
       "      <td>2</td>\n",
       "      <td>1.015655</td>\n",
       "      <td>0.999716</td>\n",
       "    </tr>\n",
       "    <tr>\n",
       "      <th>3</th>\n",
       "      <td>3</td>\n",
       "      <td>object_111_jack_o_lantern_5.obj</td>\n",
       "      <td>3</td>\n",
       "      <td>1.016221</td>\n",
       "      <td>0.995780</td>\n",
       "    </tr>\n",
       "    <tr>\n",
       "      <th>4</th>\n",
       "      <td>4</td>\n",
       "      <td>object_111_jack_o_lantern_5.obj</td>\n",
       "      <td>4</td>\n",
       "      <td>1.021458</td>\n",
       "      <td>0.996788</td>\n",
       "    </tr>\n",
       "  </tbody>\n",
       "</table>\n",
       "</div>"
      ],
      "text/plain": [
       "   Unnamed: 0                         Filename  Triangle Number  \\\n",
       "0           0  object_111_jack_o_lantern_5.obj                0   \n",
       "1           1  object_111_jack_o_lantern_5.obj                1   \n",
       "2           2  object_111_jack_o_lantern_5.obj                2   \n",
       "3           3  object_111_jack_o_lantern_5.obj                3   \n",
       "4           4  object_111_jack_o_lantern_5.obj                4   \n",
       "\n",
       "   Singular Value 1  Singular Value 2  \n",
       "0          1.009993          0.996638  \n",
       "1          1.025709          0.995636  \n",
       "2          1.015655          0.999716  \n",
       "3          1.016221          0.995780  \n",
       "4          1.021458          0.996788  "
      ]
     },
     "execution_count": 563,
     "metadata": {},
     "output_type": "execute_result"
    }
   ],
   "source": [
    "df_t.head()"
   ]
  },
  {
   "cell_type": "code",
   "execution_count": 575,
   "id": "69ede74f",
   "metadata": {},
   "outputs": [
    {
     "data": {
      "image/png": "[encoded data removed]",
      "text/plain": [
       "<Figure size 432x288 with 1 Axes>"
      ]
     },
     "metadata": {
      "needs_background": "light"
     },
     "output_type": "display_data"
    }
   ],
   "source": [
    "df_dt = discard_top_rows(df_t, \"Singular Value 1\", 0.01)\n",
    "plt.scatter(df_dt[\"Singular Value 1\"], df_dt[\"Singular Value 2\"], s=0.0001)\n",
    "plt.xlabel(\"Singular Value 1\")\n",
    "plt.ylabel(\"Singular Value 2\")\n",
    "plt.show()"
   ]
  },
  {
   "cell_type": "code",
   "execution_count": 577,
   "id": "72b58242",
   "metadata": {},
   "outputs": [
    {
     "data": {
      "image/png": "[encoded data removed]",
      "text/plain": [
       "<Figure size 432x288 with 1 Axes>"
      ]
     },
     "metadata": {
      "needs_background": "light"
     },
     "output_type": "display_data"
    }
   ],
   "source": [
    "plt.hist(df_dt[\"Singular Value 1\"])\n",
    "plt.xlabel(\"Singular Value 1\")\n",
    "plt.ylabel(\"Count\")\n",
    "plt.show()"
   ]
  },
  {
   "cell_type": "code",
   "execution_count": 579,
   "id": "e571ece1",
   "metadata": {},
   "outputs": [
    {
     "data": {
      "image/png": "[encoded data removed]",
      "text/plain": [
       "<Figure size 432x288 with 1 Axes>"
      ]
     },
     "metadata": {
      "needs_background": "light"
     },
     "output_type": "display_data"
    }
   ],
   "source": [
    "plt.hist(df_dt[\"Singular Value 2\"])\n",
    "plt.xlabel(\"Singular Value 2\")\n",
    "plt.ylabel(\"Count\")\n",
    "plt.show()"
   ]
  },
  {
   "cell_type": "code",
   "execution_count": 580,
   "id": "d3e99f96",
   "metadata": {},
   "outputs": [],
   "source": [
    "area_distortion = df_dt[\"Singular Value 1\"] * df_dt[\"Singular Value 2\"] + \\\n",
    "1/(df_dt[\"Singular Value 1\"] * df_dt[\"Singular Value 2\"])\n",
    "\n",
    "angle_distortion = df_dt[\"Singular Value 1\"]/df_dt[\"Singular Value 2\"] + \\\n",
    "df_dt[\"Singular Value 2\"]/df_dt[\"Singular Value 1\"]"
   ]
  },
  {
   "cell_type": "code",
   "execution_count": 589,
   "id": "bc58baba",
   "metadata": {},
   "outputs": [
    {
     "data": {
      "image/png": "[encoded data removed]",
      "text/plain": [
       "<Figure size 432x288 with 1 Axes>"
      ]
     },
     "metadata": {
      "needs_background": "light"
     },
     "output_type": "display_data"
    }
   ],
   "source": [
    "plt.hist(discard_top_percentage(area_distortion, 0.2))\n",
    "plt.xlabel(\"Area Distortion\")\n",
    "plt.ylabel(\"Count\")\n",
    "plt.show()"
   ]
  },
  {
   "cell_type": "code",
   "execution_count": 590,
   "id": "a02749ba",
   "metadata": {},
   "outputs": [
    {
     "data": {
      "image/png": "[encoded data removed]",
      "text/plain": [
       "<Figure size 432x288 with 1 Axes>"
      ]
     },
     "metadata": {
      "needs_background": "light"
     },
     "output_type": "display_data"
    }
   ],
   "source": [
    "plt.hist(discard_top_percentage(angle_distortion, 0.2))\n",
    "plt.xlabel(\"Angle Distortion\")\n",
    "plt.ylabel(\"Count\")\n",
    "plt.show()"
   ]
  },
  {
   "cell_type": "code",
   "execution_count": 623,
   "id": "f95c30b6",
   "metadata": {},
   "outputs": [],
   "source": [
    "df_aa = pd.DataFrame({\"angle\": angle_distortion, \"area\": area_distortion})\n",
    "rows = np.where(np.logical_and(df_aa[\"angle\"] < 1e4, df_aa[\"area\"] < 1e4))[0]\n",
    "df_aad = df_aa.iloc[rows]"
   ]
  },
  {
   "cell_type": "code",
   "execution_count": 624,
   "id": "104f5c0c",
   "metadata": {},
   "outputs": [
    {
     "data": {
      "image/png": "[encoded data removed]",
      "text/plain": [
       "<Figure size 432x288 with 1 Axes>"
      ]
     },
     "metadata": {
      "needs_background": "light"
     },
     "output_type": "display_data"
    }
   ],
   "source": [
    "plt.scatter(df_aad[\"angle\"], df_aad[\"area\"], s=0.5)\n",
    "plt.xlabel(\"Angle Distortion\")\n",
    "plt.ylabel(\"Area Distortion\")\n",
    "plt.show()"
   ]
  },
  {
   "cell_type": "code",
   "execution_count": 6,
   "id": "f80c392c",
   "metadata": {},
   "outputs": [],
   "source": [
    "def face_proj(f):\n",
    "    num_faces = f.shape[0]\n",
    "    data = f.reshape((-1,))\n",
    "    rows = np.arange(0, num_faces).repeat(3)\n",
    "    cols = np.arange(0, num_faces).repeat(3)\n",
    "    cols[1::3] += num_faces\n",
    "    cols[2::3] += 2*num_faces\n",
    "    return scipy.sparse.csr_matrix((data, (rows, cols)))"
   ]
  },
  {
   "cell_type": "code",
   "execution_count": null,
   "id": "41d8690e",
   "metadata": {},
   "outputs": [],
   "source": [
    "v, uv, n, f, ftc, fn = igl.read_obj(os.path.join(dataset_folder, \"object_224_scotch_tape_dispenser_14.obj\"))"
   ]
  },
  {
   "cell_type": "code",
   "execution_count": 467,
   "id": "f1c79295",
   "metadata": {},
   "outputs": [],
   "source": [
    "v, uv, n, f, ftc, fn = igl.read_obj(os.path.join(dataset_folder, \"object_76_greek_tablet_1.obj\"))"
   ]
  },
  {
   "cell_type": "code",
   "execution_count": 468,
   "id": "285d5d7a",
   "metadata": {},
   "outputs": [],
   "source": [
    "f = f.reshape((-1, 3))"
   ]
  },
  {
   "cell_type": "code",
   "execution_count": 469,
   "id": "33dc2afa",
   "metadata": {},
   "outputs": [],
   "source": [
    "ftc = ftc.reshape((-1, 3))"
   ]
  },
  {
   "cell_type": "code",
   "execution_count": 470,
   "id": "3f56a16b",
   "metadata": {},
   "outputs": [],
   "source": [
    "mesh_areas = np.abs(igl.doublearea(v, f)/2.0).reshape((1, -1))\n",
    "uv_areas = np.abs(igl.doublearea(uv, ftc)/2.0).reshape((1, -1))"
   ]
  },
  {
   "cell_type": "code",
   "execution_count": 471,
   "id": "59c726bd",
   "metadata": {},
   "outputs": [],
   "source": [
    "total_mesh_area = np.sum(mesh_areas)\n",
    "total_uv_area = np.sum(uv_areas)"
   ]
  },
  {
   "cell_type": "code",
   "execution_count": 472,
   "id": "3128987e",
   "metadata": {},
   "outputs": [],
   "source": [
    "area_scale_factor = total_mesh_area/total_uv_area\n",
    "edge_scale_factor = np.sqrt(area_scale_factor)"
   ]
  },
  {
   "cell_type": "code",
   "execution_count": 473,
   "id": "27c81513",
   "metadata": {},
   "outputs": [
    {
     "name": "stderr",
     "output_type": "stream",
     "text": [
      "<ipython-input-473-ab21da9730b0>:3: RuntimeWarning: divide by zero encountered in true_divide\n",
      "  scaled_area_distortions = scaled_area_ratios + 1/scaled_area_ratios\n"
     ]
    }
   ],
   "source": [
    "area_ratios = uv_areas/mesh_areas\n",
    "scaled_area_ratios = area_ratios * area_scale_factor\n",
    "scaled_area_distortions = scaled_area_ratios + 1/scaled_area_ratios"
   ]
  },
  {
   "cell_type": "code",
   "execution_count": 474,
   "id": "01aee7dd",
   "metadata": {},
   "outputs": [
    {
     "name": "stderr",
     "output_type": "stream",
     "text": [
      "/Users/georgiashay/opt/anaconda3/lib/python3.8/site-packages/numpy/core/_methods.py:229: RuntimeWarning: invalid value encountered in subtract\n",
      "  x = asanyarray(arr - arrmean)\n"
     ]
    }
   ],
   "source": [
    "smallest_area_ratio = np.min(scaled_area_ratios)\n",
    "largest_area_ratio = np.max(scaled_area_ratios)\n",
    "mean_area_ratio = np.sqrt(np.sum(uv_areas * np.square(scaled_area_ratios))/total_uv_area)\n",
    "largest_area_distortion = np.max(scaled_area_distortions)\n",
    "std_dev_area_distortion = np.std(scaled_area_distortions)"
   ]
  },
  {
   "cell_type": "code",
   "execution_count": 475,
   "id": "cb4ff4e3",
   "metadata": {},
   "outputs": [],
   "source": [
    "mesh_edge_co = v[igl.edges(f)]\n",
    "mesh_edge_lengths = np.linalg.norm(mesh_edge_co[:, 0] - mesh_edge_co[:, 1], axis=1)"
   ]
  },
  {
   "cell_type": "code",
   "execution_count": 476,
   "id": "951cbcbf",
   "metadata": {},
   "outputs": [],
   "source": [
    "uv_to_v = {}\n",
    "for i, face in enumerate(f):\n",
    "    for j, v_idx in enumerate(face):\n",
    "        uv_idx = ftc[i][j]\n",
    "        uv_to_v[uv_idx] = v_idx\n",
    "\n",
    "uv_c = np.array([co for i, co in sorted(enumerate(uv), key=lambda i_co: uv_to_v[i_co[0]])])"
   ]
  },
  {
   "cell_type": "code",
   "execution_count": 477,
   "id": "9441700d",
   "metadata": {},
   "outputs": [],
   "source": [
    "uv_edge_co = uv_c[igl.edges(f)]\n",
    "uv_edge_lengths = np.linalg.norm(uv_edge_co[:, 0] - uv_edge_co[:, 1], axis=1)\n",
    "scaled_uv_edge_lengths = uv_edge_lengths * edge_scale_factor"
   ]
  },
  {
   "cell_type": "code",
   "execution_count": 478,
   "id": "3fb65278",
   "metadata": {},
   "outputs": [],
   "source": [
    "edge_length_ratios = scaled_uv_edge_lengths/mesh_edge_lengths\n",
    "edge_length_distortion = edge_length_ratios + 1/edge_length_ratios"
   ]
  },
  {
   "cell_type": "code",
   "execution_count": 479,
   "id": "8bef7a52",
   "metadata": {},
   "outputs": [],
   "source": [
    "min_edge_length_ratio = np.min(edge_length_ratios)\n",
    "max_edge_length_ratio = np.max(edge_length_ratios)\n",
    "max_edge_length_distortion = np.max(edge_length_distortion)\n",
    "std_dev_edge_length_distortion = np.std(edge_length_distortion)"
   ]
  },
  {
   "cell_type": "code",
   "execution_count": 480,
   "id": "0ec575b6",
   "metadata": {},
   "outputs": [],
   "source": [
    "G = igl.grad(v, f)\n",
    "f1, f2, f3 = igl.local_basis(v, f)"
   ]
  },
  {
   "cell_type": "code",
   "execution_count": 481,
   "id": "c01f267a",
   "metadata": {},
   "outputs": [],
   "source": [
    "f1 = f1.reshape((-1, 3))\n",
    "f2 = f2.reshape((-1, 3))\n",
    "f3 = f3.reshape((-1, 3))"
   ]
  },
  {
   "cell_type": "code",
   "execution_count": 482,
   "id": "658a0783",
   "metadata": {},
   "outputs": [],
   "source": [
    "dx = face_proj(f1) @ G\n",
    "dy = face_proj(f2) @ G"
   ]
  },
  {
   "cell_type": "code",
   "execution_count": 483,
   "id": "e05de134",
   "metadata": {},
   "outputs": [],
   "source": [
    "scaled_per_vertex_uv = uv_c * edge_scale_factor\n",
    "\n",
    "J = np.zeros((f.shape[0], 2, 2))\n",
    "\n",
    "J[:,0,0] = dx @ scaled_per_vertex_uv[:,0]\n",
    "J[:,0,1] = dy @ scaled_per_vertex_uv[:,0]\n",
    "J[:,1,0] = dx @ scaled_per_vertex_uv[:,1]\n",
    "J[:,1,1] = dy @ scaled_per_vertex_uv[:,1]"
   ]
  },
  {
   "cell_type": "code",
   "execution_count": 484,
   "id": "443789b2",
   "metadata": {},
   "outputs": [],
   "source": [
    "singular_values = np.linalg.svd(J)[1]\n",
    "min_singular_value = np.min(singular_values)\n",
    "max_singular_value = np.max(singular_values)"
   ]
  },
  {
   "cell_type": "code",
   "execution_count": 485,
   "id": "187ef791",
   "metadata": {},
   "outputs": [],
   "source": [
    "dets = np.linalg.det(J)\n",
    "flipped = dets < 0\n",
    "percent_flipped = np.sum(flipped)/flipped.shape[0]"
   ]
  },
  {
   "cell_type": "code",
   "execution_count": 815,
   "id": "d6dbe1fd",
   "metadata": {},
   "outputs": [],
   "source": [
    "mesh = pymesh.load_mesh(os.path.join(dataset_folder, \"object_129_hellraiser_3.obj\"))\n",
    "v, uv, n, f, ftc, fn = igl.read_obj(os.path.join(dataset_folder, \"object_129_hellraiser_3.obj\"))"
   ]
  },
  {
   "cell_type": "code",
   "execution_count": 807,
   "id": "acc76fb0",
   "metadata": {},
   "outputs": [],
   "source": [
    "mesh = pymesh.load_mesh(os.path.join(dataset_folder, \"object_19_moon_0.obj\"))\n",
    "v, uv, n, f, ftc, fn = igl.read_obj(os.path.join(dataset_folder, \"object_19_moon_0.obj\"))"
   ]
  },
  {
   "cell_type": "code",
   "execution_count": 876,
   "id": "cfda56e0",
   "metadata": {},
   "outputs": [],
   "source": [
    "mesh = pymesh.load_mesh(os.path.join(dataset_folder, \"object_129_hellraiser_28.obj\"))\n",
    "v, uv, n, f, ftc, fn = igl.read_obj(os.path.join(dataset_folder, \"object_129_hellraiser_28.obj\"))"
   ]
  },
  {
   "cell_type": "code",
   "execution_count": 877,
   "id": "7a83d1ab",
   "metadata": {},
   "outputs": [
    {
     "name": "stdout",
     "output_type": "stream",
     "text": [
      "1277 / 1278/ 1278\r"
     ]
    }
   ],
   "source": [
    "faces = mesh.faces.shape[0]\n",
    "boundary_triangles = 0\n",
    "for i in range(faces):\n",
    "    print(i, \"/\", faces, end=\"\\r\")\n",
    "    triangle_edges = mesh.faces[i, [[0,1], [1,0], [1,2], [2,1], [0,2], [2,0]]].reshape(-1, 1, 2)\n",
    "    boundary_edges = mesh.boundary_edges.reshape(1, -1, 2)\n",
    "\n",
    "    equal = np.equal(triangle_edges, boundary_edges)\n",
    "    edges_equal = equal.all(axis=2)\n",
    "    is_boundary_edge = edges_equal.any(axis=1)\n",
    "    is_boundary_triangle = is_boundary_edge.reshape((-1, 6)).any(axis=1)[0]\n",
    "    boundary_triangles += is_boundary_triangle"
   ]
  },
  {
   "cell_type": "code",
   "execution_count": 878,
   "id": "af772ec3",
   "metadata": {},
   "outputs": [
    {
     "data": {
      "text/plain": [
       "1278"
      ]
     },
     "execution_count": 878,
     "metadata": {},
     "output_type": "execute_result"
    }
   ],
   "source": [
    "np.sum(np.any(igl.triangle_triangle_adjacency(mesh.faces)[0].reshape((-1, 3)) == -1, axis=1))"
   ]
  },
  {
   "cell_type": "code",
   "execution_count": 824,
   "id": "fd6301ef",
   "metadata": {},
   "outputs": [
    {
     "data": {
      "text/plain": [
       "617"
      ]
     },
     "execution_count": 824,
     "metadata": {},
     "output_type": "execute_result"
    }
   ],
   "source": [
    "len(mesh.faces) - np.sum(np.any(igl.triangle_triangle_adjacency(f)[0] == -1, axis=1))"
   ]
  },
  {
   "cell_type": "code",
   "execution_count": 836,
   "id": "13ace76e",
   "metadata": {},
   "outputs": [
    {
     "data": {
      "text/plain": [
       "array([[ 1523,    -1,     1],\n",
       "       [    4,     0,    -1],\n",
       "       [27204,     6,    -1],\n",
       "       ...,\n",
       "       [   -1, 27313, 27315],\n",
       "       [27314, 27316,    -1],\n",
       "       [27315,     4,    -1]], dtype=int64)"
      ]
     },
     "execution_count": 836,
     "metadata": {},
     "output_type": "execute_result"
    }
   ],
   "source": [
    "igl.triangle_triangle_adjacency(f)[0]"
   ]
  },
  {
   "cell_type": "code",
   "execution_count": 837,
   "id": "6d93472b",
   "metadata": {},
   "outputs": [
    {
     "data": {
      "text/plain": [
       "array([11261, 11266,     0], dtype=int32)"
      ]
     },
     "execution_count": 837,
     "metadata": {},
     "output_type": "execute_result"
    }
   ],
   "source": [
    "mesh.faces[1]"
   ]
  },
  {
   "cell_type": "code",
   "execution_count": 846,
   "id": "54a354b9",
   "metadata": {},
   "outputs": [
    {
     "data": {
      "text/plain": [
       "True"
      ]
     },
     "execution_count": 846,
     "metadata": {},
     "output_type": "execute_result"
    }
   ],
   "source": [
    "[0, 11261] in mesh.boundary_edges.tolist()"
   ]
  },
  {
   "cell_type": "code",
   "execution_count": null,
   "id": "0073f7ba",
   "metadata": {},
   "outputs": [],
   "source": [
    "# Need to check both orderings of the edge\n",
    "# just use igl"
   ]
  },
  {
   "cell_type": "code",
   "execution_count": 825,
   "id": "180a6968",
   "metadata": {},
   "outputs": [
    {
     "data": {
      "text/plain": [
       "array([[11266,     1,     0],\n",
       "       [11261, 11266,     0],\n",
       "       [11262, 26908, 11261],\n",
       "       ...,\n",
       "       [26981, 26980, 11266],\n",
       "       [26981, 11266, 11260],\n",
       "       [11260, 11266, 26982]], dtype=int32)"
      ]
     },
     "execution_count": 825,
     "metadata": {},
     "output_type": "execute_result"
    }
   ],
   "source": [
    "mesh.faces"
   ]
  },
  {
   "cell_type": "code",
   "execution_count": 774,
   "id": "873cec91",
   "metadata": {},
   "outputs": [],
   "source": [
    "triangle_edges = mesh.faces[0, [[0,1], [1,2], [0,2]]].reshape(-1, 1, 2)"
   ]
  },
  {
   "cell_type": "code",
   "execution_count": 834,
   "id": "1147fb7f",
   "metadata": {},
   "outputs": [
    {
     "data": {
      "text/plain": [
       "False"
      ]
     },
     "execution_count": 834,
     "metadata": {},
     "output_type": "execute_result"
    }
   ],
   "source": [
    "i = 1\n",
    "triangle_edges = mesh.faces[i, [[0,1], [1,2], [0,2]]].reshape(-1, 1, 2)\n",
    "boundary_edges = mesh.boundary_edges.reshape(1, -1, 2)\n",
    "\n",
    "equal = np.equal(triangle_edges, boundary_edges)\n",
    "edges_equal = equal.all(axis=2)\n",
    "is_boundary_edge = edges_equal.any(axis=1)\n",
    "is_boundary_triangle = is_boundary_edge.reshape((-1, 3)).any(axis=1)[0]\n",
    "is_boundary_triangle"
   ]
  },
  {
   "cell_type": "code",
   "execution_count": 776,
   "id": "0d05589b",
   "metadata": {},
   "outputs": [],
   "source": [
    "boundary_edges = mesh.boundary_edges.reshape(1, -1, 2)"
   ]
  },
  {
   "cell_type": "code",
   "execution_count": 777,
   "id": "19ebc81d",
   "metadata": {},
   "outputs": [],
   "source": [
    "equal = np.equal(triangle_edges, boundary_edges)"
   ]
  },
  {
   "cell_type": "code",
   "execution_count": 779,
   "id": "3d7fe104",
   "metadata": {},
   "outputs": [],
   "source": [
    "edges_equal = equal.all(axis=2)"
   ]
  },
  {
   "cell_type": "code",
   "execution_count": 780,
   "id": "01f867fb",
   "metadata": {},
   "outputs": [],
   "source": [
    "is_boundary_edge = edges_equal.any(axis=1)"
   ]
  },
  {
   "cell_type": "code",
   "execution_count": 783,
   "id": "72e72c46",
   "metadata": {},
   "outputs": [
    {
     "data": {
      "text/plain": [
       "True"
      ]
     },
     "execution_count": 783,
     "metadata": {},
     "output_type": "execute_result"
    }
   ],
   "source": [
    "is_boundary_edge.any()"
   ]
  },
  {
   "cell_type": "code",
   "execution_count": 757,
   "id": "7d947f8e",
   "metadata": {},
   "outputs": [],
   "source": [
    "is_boundary_triangle = is_boundary_edge.reshape((-1, 3)).any(axis=1)"
   ]
  },
  {
   "cell_type": "code",
   "execution_count": 761,
   "id": "65ecb26a",
   "metadata": {},
   "outputs": [
    {
     "data": {
      "text/plain": [
       "3"
      ]
     },
     "execution_count": 761,
     "metadata": {},
     "output_type": "execute_result"
    }
   ],
   "source": [
    "is_boundary_triangle[0]"
   ]
  },
  {
   "cell_type": "code",
   "execution_count": 751,
   "id": "821a5ce9",
   "metadata": {},
   "outputs": [],
   "source": [
    "boundary_triangles = np.sum(is_boundary_triangle)"
   ]
  },
  {
   "cell_type": "code",
   "execution_count": 752,
   "id": "58b69681",
   "metadata": {},
   "outputs": [
    {
     "data": {
      "text/plain": [
       "1"
      ]
     },
     "execution_count": 752,
     "metadata": {},
     "output_type": "execute_result"
    }
   ],
   "source": [
    "boundary_triangles"
   ]
  },
  {
   "cell_type": "code",
   "execution_count": null,
   "id": "f82b2e30",
   "metadata": {},
   "outputs": [],
   "source": []
  }
 ],
 "metadata": {
  "kernelspec": {
   "display_name": "Python 3",
   "language": "python",
   "name": "python3"
  },
  "language_info": {
   "codemirror_mode": {
    "name": "ipython",
    "version": 3
   },
   "file_extension": ".py",
   "mimetype": "text/x-python",
   "name": "python",
   "nbconvert_exporter": "python",
   "pygments_lexer": "ipython3",
   "version": "3.8.8"
  }
 },
 "nbformat": 4,
 "nbformat_minor": 5
}
